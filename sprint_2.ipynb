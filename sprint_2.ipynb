{
 "cells": [
  {
   "cell_type": "code",
   "execution_count": 1,
   "id": "6ab77ca9",
   "metadata": {},
   "outputs": [],
   "source": [
    "import csv"
   ]
  },
  {
   "cell_type": "code",
   "execution_count": 2,
   "id": "1be265aa",
   "metadata": {},
   "outputs": [],
   "source": [
    "with open('upper.csv') as csvfile:\n",
    "    rows = csv.reader(csvfile)\n",
    "    names = next(rows)\n",
    "    n_cols = len(names)\n",
    "    dict_taxis = {name: [] for name in names}\n",
    "    for row in rows:\n",
    "        for name, col in zip(names, range(n_cols)):\n",
    "            dict_taxis[name].append(row[col])"
   ]
  },
  {
   "cell_type": "code",
   "execution_count": 4,
   "id": "cce99060",
   "metadata": {},
   "outputs": [],
   "source": [
    "filtro_1_1 = []\n",
    "for trip_total in dict_taxis['trip_total']:\n",
    "    trip_total = float(trip_total) if trip_total else 0\n",
    "    if (trip_total >= 20) & (trip_total <= 40):\n",
    "        filtro_1_1.append(True)\n",
    "    else:\n",
    "        filtro_1_1.append(False)\n",
    "\n",
    "filtro_2_1 = []\n",
    "for payment_type in dict_taxis['payment_type']:\n",
    "    if payment_type == \"Credit Card\":\n",
    "        filtro_2_1.append(True)\n",
    "    else:\n",
    "        filtro_2_1.append(False)\n",
    "        \n",
    "filtro_3_1 = []\n",
    "for num in range(len(filtro_1_1)):\n",
    "    filtro_3_1.append(filtro_1_1[num]&filtro_2_1[num])\n",
    "    \n",
    "taxi_ids_1 = []\n",
    "for valor in range(len(filtro_3_1)):\n",
    "    if filtro_3_1[valor]:\n",
    "        if dict_taxis['taxi_id'][valor] not in taxi_ids_1:\n",
    "            taxi_ids_1.append(dict_taxis['taxi_id'][valor])"
   ]
  },
  {
   "cell_type": "code",
   "execution_count": 5,
   "id": "18af6f41",
   "metadata": {},
   "outputs": [
    {
     "data": {
      "text/plain": [
       "36"
      ]
     },
     "execution_count": 5,
     "metadata": {},
     "output_type": "execute_result"
    }
   ],
   "source": [
    "len(taxi_ids_1)"
   ]
  },
  {
   "cell_type": "code",
   "execution_count": 6,
   "id": "5c694736",
   "metadata": {},
   "outputs": [],
   "source": [
    "filtro_1 = []\n",
    "for extras in dict_taxis['extras']:\n",
    "    extras = float(extras) if extras else 0\n",
    "    if (extras < 10) | (extras > 60):\n",
    "        filtro_1.append(True)\n",
    "    else:\n",
    "        filtro_1.append(False)\n",
    "\n",
    "filtro_2 = []\n",
    "for payment_type in dict_taxis['payment_type']:\n",
    "    if payment_type == \"Cash\":\n",
    "        filtro_2.append(True)\n",
    "    else:\n",
    "        filtro_2.append(False)\n",
    "        \n",
    "filtro_3 = []\n",
    "for num in range(len(filtro_1)):\n",
    "    filtro_3.append(filtro_1[num]&filtro_2[num])\n",
    "    \n",
    "taxi_ids = []\n",
    "for valor in range(len(filtro_3)):\n",
    "    if filtro_3[valor]:\n",
    "        if dict_taxis['taxi_id'][valor] not in taxi_ids:\n",
    "            taxi_ids.append(dict_taxis['taxi_id'][valor])"
   ]
  },
  {
   "cell_type": "code",
   "execution_count": 7,
   "id": "53e8c134",
   "metadata": {},
   "outputs": [
    {
     "data": {
      "text/plain": [
       "390"
      ]
     },
     "execution_count": 7,
     "metadata": {},
     "output_type": "execute_result"
    }
   ],
   "source": [
    "len(taxi_ids)"
   ]
  }
 ],
 "metadata": {
  "kernelspec": {
   "display_name": "Python 3 (ipykernel)",
   "language": "python",
   "name": "python3"
  },
  "language_info": {
   "codemirror_mode": {
    "name": "ipython",
    "version": 3
   },
   "file_extension": ".py",
   "mimetype": "text/x-python",
   "name": "python",
   "nbconvert_exporter": "python",
   "pygments_lexer": "ipython3",
   "version": "3.7.7"
  }
 },
 "nbformat": 4,
 "nbformat_minor": 5
}
